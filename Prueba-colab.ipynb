{
  "nbformat": 4,
  "nbformat_minor": 0,
  "metadata": {
    "colab": {
      "name": "Untitled0.ipynb",
      "provenance": [],
      "authorship_tag": "ABX9TyNJ780IxgGzXYw95jybTwjb",
      "include_colab_link": true
    },
    "kernelspec": {
      "name": "python3",
      "display_name": "Python 3"
    },
    "language_info": {
      "name": "python"
    }
  },
  "cells": [
    {
      "cell_type": "markdown",
      "metadata": {
        "id": "view-in-github",
        "colab_type": "text"
      },
      "source": [
        "<a href=\"https://colab.research.google.com/github/espinolj/Public-Python/blob/master/Prueba-colab.ipynb\" target=\"_parent\"><img src=\"https://colab.research.google.com/assets/colab-badge.svg\" alt=\"Open In Colab\"/></a>"
      ]
    },
    {
      "cell_type": "code",
      "metadata": {
        "colab": {
          "base_uri": "https://localhost:8080/"
        },
        "id": "eJfBLaR2sxys",
        "outputId": "322c19f5-db53-41b8-910d-7bc6f3eeed57"
      },
      "source": [
        "%matplotlib auto\n",
        "# IMPORTAMOS LIBRERÍAS\n",
        "import matplotlib.pyplot as plt\n",
        "import numpy as np\n",
        "from mpl_toolkits.mplot3d import axes3d\n",
        "import matplotlib.animation as animation\n",
        "\n",
        "#datos\n",
        "x=np.linspace(0,5,101)\n",
        "y=x**2\n",
        "\n",
        "#grafica\n",
        "fig=plt.figure()\n",
        "ax=fig.gca()\n",
        "\n",
        "#actualizar\n",
        "def actualizar(i):\n",
        "    ax.clear()\n",
        "    ax.plot(x[:i],y[:i])\n",
        "    plt.title(str(x[i]))\n",
        "    plt.xlim(min(x),max(x))\n",
        "    plt.ylim(min(y),max(y))\n",
        "    \n",
        "#animación\n",
        "ani=animation.FuncAnimation(fig,actualizar,range(len(x)),interval=10,repeat=False)\n",
        "\n",
        "plt.show()"
      ],
      "execution_count": null,
      "outputs": [
        {
          "output_type": "stream",
          "text": [
            "Using matplotlib backend: agg\n"
          ],
          "name": "stdout"
        }
      ]
    },
    {
      "cell_type": "code",
      "metadata": {
        "id": "dp2fFfwns4Gx"
      },
      "source": [
        ""
      ],
      "execution_count": null,
      "outputs": []
    }
  ]
}