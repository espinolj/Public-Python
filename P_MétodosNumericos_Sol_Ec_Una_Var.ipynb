{
  "nbformat": 4,
  "nbformat_minor": 0,
  "metadata": {
    "kernelspec": {
      "display_name": "Python 3",
      "language": "python",
      "name": "python3"
    },
    "language_info": {
      "codemirror_mode": {
        "name": "ipython",
        "version": 3
      },
      "file_extension": ".py",
      "mimetype": "text/x-python",
      "name": "python",
      "nbconvert_exporter": "python",
      "pygments_lexer": "ipython3",
      "version": "3.7.3"
    },
    "colab": {
      "name": "P-MétodosNumericos-Sol_Ec_Una_Var.ipynb",
      "provenance": [],
      "include_colab_link": true
    }
  },
  "cells": [
    {
      "cell_type": "markdown",
      "metadata": {
        "id": "view-in-github",
        "colab_type": "text"
      },
      "source": [
        "<a href=\"https://colab.research.google.com/github/espinolj/Public-Python/blob/master/P_M%C3%A9todosNumericos_Sol_Ec_Una_Var.ipynb\" target=\"_parent\"><img src=\"https://colab.research.google.com/assets/colab-badge.svg\" alt=\"Open In Colab\"/></a>"
      ]
    },
    {
      "cell_type": "markdown",
      "metadata": {
        "id": "-5CHvp-nUHSa",
        "colab_type": "text"
      },
      "source": [
        ""
      ]
    },
    {
      "cell_type": "markdown",
      "metadata": {
        "id": "NwAcjveITIK8",
        "colab_type": "text"
      },
      "source": [
        "# CÁLCULO DE LA RAÍZ DE UNA ECUACIÓN DE UNA VARIABLE"
      ]
    },
    {
      "cell_type": "markdown",
      "metadata": {
        "id": "chU6d8IRTIK_",
        "colab_type": "text"
      },
      "source": [
        "Abordamos aquí diferentes métodos para aproximar la raíz de una ecuación de una variable y su programación en Python:\n",
        "1. Método de la bisección.\n",
        "2. Método de Iteración de punto fijo\n",
        "LAFUN es la función donde define la ecuación, esto es para todos los métodos."
      ]
    },
    {
      "cell_type": "markdown",
      "metadata": {
        "id": "keLZIcuzTILB",
        "colab_type": "text"
      },
      "source": [
        "MÉTODO DE LA BISECCIÓN"
      ]
    },
    {
      "cell_type": "code",
      "metadata": {
        "id": "QR2WN8BXF9oU",
        "colab_type": "code",
        "colab": {}
      },
      "source": [
        "import numpy as np"
      ],
      "execution_count": 10,
      "outputs": []
    },
    {
      "cell_type": "code",
      "metadata": {
        "id": "ISkf8a6cTILD",
        "colab_type": "code",
        "colab": {}
      },
      "source": [
        "def LAFUN(x):\n",
        "    # Definición de la función\n",
        "    funcion=x**3+4*x*2-9\n",
        "    return funcion"
      ],
      "execution_count": 28,
      "outputs": []
    },
    {
      "cell_type": "code",
      "metadata": {
        "id": "cS8QiOrkTILQ",
        "colab_type": "code",
        "colab": {}
      },
      "source": [
        "def BISECCION(a,b,TOL,N0):\n",
        "    x=np.arange(-10,10,0.05)\n",
        "    plot(x,LAFUN(x))\n",
        "    x1=np.array([-10,10])\n",
        "    y1=np.array([0,0])\n",
        "    plot(x1,y1)\n",
        "\n",
        "    i=1\n",
        "    FA=LAFUN(a)\n",
        "    while i<=N0:\n",
        "        p=a+(b-a)/2\n",
        "        FP=LAFUN(p)\n",
        "        if FP==0 or (b-a)/2< TOL:\n",
        "            print('Raíz calculada: ')\n",
        "            print(p)\n",
        "            return p\n",
        "            break\n",
        "        i=i+1\n",
        "        if FA*FP>0:\n",
        "            a=p\n",
        "            FA=FP\n",
        "        else:\n",
        "            b=p\n",
        "    print('El método fracasó después de iteraciones:')\n",
        "    print(N0)\n"
      ],
      "execution_count": 29,
      "outputs": []
    },
    {
      "cell_type": "code",
      "metadata": {
        "id": "jT29JvXETILd",
        "colab_type": "code",
        "colab": {
          "base_uri": "https://localhost:8080/",
          "height": 316
        },
        "outputId": "0a5dad16-da77-485d-c096-85cb55ac17e7"
      },
      "source": [
        "BISECCION(1,2,0.05,20)"
      ],
      "execution_count": 30,
      "outputs": [
        {
          "output_type": "stream",
          "text": [
            "Raíz calculada: \n",
            "1.03125\n"
          ],
          "name": "stdout"
        },
        {
          "output_type": "execute_result",
          "data": {
            "text/plain": [
              "1.03125"
            ]
          },
          "metadata": {
            "tags": []
          },
          "execution_count": 30
        },
        {
          "output_type": "display_data",
          "data": {
            "image/png": "[encoded data removed]",
            "text/plain": [
              "<Figure size 432x288 with 1 Axes>"
            ]
          },
          "metadata": {
            "tags": [],
            "needs_background": "light"
          }
        }
      ]
    },
    {
      "cell_type": "code",
      "metadata": {
        "id": "ytcoIwmDTILo",
        "colab_type": "code",
        "colab": {}
      },
      "source": [
        ""
      ],
      "execution_count": null,
      "outputs": []
    }
  ]
}