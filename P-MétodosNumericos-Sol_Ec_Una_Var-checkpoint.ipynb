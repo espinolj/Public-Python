{
 "cells": [
  {
   "cell_type": "markdown",
   "metadata": {},
   "source": [
    "# CÁLCULO DE LA RAÍZ DE UNA ECUACIÓN DE UNA VARIABLE"
   ]
  },
  {
   "cell_type": "markdown",
   "metadata": {},
   "source": [
    "Abordamos aquí diferentes métodos para aproximar la raíz de una ecuación de una variable y su programación en Python:\n",
    "1. Método de la bisección.\n",
    "2. Método de Iteración de punto fijo\n",
    "LAFUN es la función donde define la ecuación, esto es para todos los métodos."
   ]
  },
  {
   "cell_type": "code",
   "execution_count": null,
   "metadata": {},
   "outputs": [],
   "source": [
    "MÉTODO DE LA BISECCIÓN"
   ]
  },
  {
   "cell_type": "code",
   "execution_count": 31,
   "metadata": {},
   "outputs": [],
   "source": [
    "def LAFUN(x):\n",
    "    funcion=x**3+4*x**2-10\n",
    "    return funcion"
   ]
  },
  {
   "cell_type": "code",
   "execution_count": 38,
   "metadata": {},
   "outputs": [],
   "source": [
    "def BISECCION(a,b,TOL,N0):\n",
    "    i=1\n",
    "    FA=LAFUN(a)\n",
    "    while i<=N0:\n",
    "        p=a+(b-a)/2\n",
    "        FP=LAFUN(p)\n",
    "        if FP==0 or (b-a)/2< TOL:\n",
    "            print('Raíz calculada: ')\n",
    "            print(p)\n",
    "            return p\n",
    "            break\n",
    "        i=i+1\n",
    "        if FA*FP>0:\n",
    "            a=p\n",
    "            FA=FP\n",
    "        else:\n",
    "            b=p\n",
    "    print('El método fracasó después de iteraciones:')\n",
    "    print(N0)"
   ]
  },
  {
   "cell_type": "code",
   "execution_count": 39,
   "metadata": {},
   "outputs": [
    {
     "name": "stdout",
     "output_type": "stream",
     "text": [
      "1\n",
      "Raíz calculada: \n",
      "1.34375\n"
     ]
    },
    {
     "data": {
      "text/plain": [
       "1.34375"
      ]
     },
     "execution_count": 39,
     "metadata": {},
     "output_type": "execute_result"
    }
   ],
   "source": [
    "BISECCION(1,2,0.05,20)"
   ]
  },
  {
   "cell_type": "code",
   "execution_count": null,
   "metadata": {},
   "outputs": [],
   "source": []
  }
 ],
 "metadata": {
  "kernelspec": {
   "display_name": "Python 3",
   "language": "python",
   "name": "python3"
  },
  "language_info": {
   "codemirror_mode": {
    "name": "ipython",
    "version": 3
   },
   "file_extension": ".py",
   "mimetype": "text/x-python",
   "name": "python",
   "nbconvert_exporter": "python",
   "pygments_lexer": "ipython3",
   "version": "3.7.3"
  }
 },
 "nbformat": 4,
 "nbformat_minor": 2
}
